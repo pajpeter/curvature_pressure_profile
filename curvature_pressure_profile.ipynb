{
 "cells": [
  {
   "cell_type": "markdown",
   "metadata": {},
   "source": [
    "#####################\n",
    "Importing modules needed\n",
    "#####################"
   ]
  },
  {
   "cell_type": "code",
   "execution_count": 91,
   "metadata": {},
   "outputs": [],
   "source": [
    "import pandas as pd\n",
    "import matplotlib.pyplot as plt\n",
    "import scipy.optimize as opt\n",
    "import numpy as np\n",
    "import math\n",
    "import pylab\n",
    "from matplotlib.ticker import MultipleLocator, FormatStrFormatter\n",
    "\n",
    "from scipy.integrate import simps\n",
    "from numpy import trapz\n",
    "import pandas as pd"
   ]
  },
  {
   "cell_type": "markdown",
   "metadata": {},
   "source": [
    "##################\n",
    "Setting shift and location of data\n",
    "##################"
   ]
  },
  {
   "cell_type": "code",
   "execution_count": 92,
   "metadata": {},
   "outputs": [],
   "source": [
    "shift = 3.74\n",
    "title = \"membrane\"\n",
    "path = \"~/Desktop/profiles/offset_comparison/data/\" + title + \".csv\"  #working on localhost"
   ]
  },
  {
   "cell_type": "markdown",
   "metadata": {},
   "source": [
    "##################\n",
    "Calculate the zeroth moment of the lateral pressure profile\n",
    "##################"
   ]
  },
  {
   "cell_type": "code",
   "execution_count": 93,
   "metadata": {},
   "outputs": [
    {
     "name": "stdout",
     "output_type": "stream",
     "text": [
      "The zeroth moment of lateral pressure profile calculated by simpson is: 0.015893854637300316\n",
      "And by trapz: 0.008682986012621468\n"
     ]
    }
   ],
   "source": [
    "data_zeroth = pd.read_csv(path)\n",
    "\n",
    "x_shift = data_zeroth[\"z\"]\n",
    "y = (data_zeroth[\"PL\"] + data_zeroth[\"PT\"])*10e4  # the 10e4 is for transition from bars to Pascals\n",
    "\n",
    "x=[]\n",
    "for coor in x_shift:\n",
    "        x.append((coor - shift)*10e-10)           # the 10e4 is for transition from nanometers to meters\n",
    "\n",
    "\n",
    "\n",
    "area_s = simps(y, x)\n",
    "area_t = trapz(y, x)\n",
    "\n",
    "print(\"The zeroth moment of lateral pressure profile calculated by simpson is: {}\".format(area_s))\n",
    "\n",
    "print(\"And by trapz: {}\".format(area_t))"
   ]
  },
  {
   "cell_type": "markdown",
   "metadata": {},
   "source": [
    "##################\n",
    "Calculate the first moment of the lateral pressure profile\n",
    "##################"
   ]
  },
  {
   "cell_type": "code",
   "execution_count": 94,
   "metadata": {},
   "outputs": [
    {
     "name": "stdout",
     "output_type": "stream",
     "text": [
      " (-) First moment of the lateral pressure profile of system with membrane sidechains (simpson): -2.4110654509630148e-11\n",
      " (-)by trapz is: -1.7527794761797665e-11\n",
      " (+) First moment of the lateral pressure profile of system with membrane sidechains (simpson): 2.190346172127537e-11\n",
      " (+)by trapz is: 2.1894027429283134e-11\n"
     ]
    }
   ],
   "source": [
    "data_first = pd.read_csv(path)\n",
    "\n",
    "x_first = x\n",
    "y_first = (data_first[\"PL\"] + data_first[\"PT\"])*x_first*10e4   # the 10e4 is for transition from bars to Pascals\n",
    "\n",
    "\n",
    "x_pos=[]\n",
    "x_neg=[]\n",
    "for num in x_first:\n",
    "    if num <= 0:\n",
    "        x_neg.append(num)\n",
    "    else:\n",
    "        x_pos.append(num)\n",
    "        \n",
    "y_pos = y_first[len(x_pos)-1:]\n",
    "y_neg = y_first[:len(x_pos)-1]\n",
    "#Calculate the negative part\n",
    "\n",
    "\n",
    "\n",
    "area_s_neg = simps(y_neg, x_neg)\n",
    "area_t_neg = trapz(y_neg, x_neg)\n",
    "area_s_pos = simps(y_pos, x_pos)\n",
    "area_t_pos = trapz(y_pos, x_pos)\n",
    "\n",
    "\n",
    "print(\" (-) First moment of the lateral pressure profile of system with {} sidechains (simpson): {}\".format(title, area_s_neg))\n",
    "print(\" (-)by trapz is: {}\".format(area_t_neg))\n",
    "\n",
    "print(\" (+) First moment of the lateral pressure profile of system with {} sidechains (simpson): {}\".format(title, area_s_pos))\n",
    "print(\" (+)by trapz is: {}\".format(area_t_pos))"
   ]
  },
  {
   "cell_type": "markdown",
   "metadata": {},
   "source": [
    "#####################\n",
    "Setting of graph look\n",
    "#####################"
   ]
  },
  {
   "cell_type": "code",
   "execution_count": 95,
   "metadata": {},
   "outputs": [
    {
     "name": "stderr",
     "output_type": "stream",
     "text": [
      "/anaconda3/lib/python3.6/site-packages/matplotlib/cbook/deprecation.py:106: MatplotlibDeprecationWarning: Adding an axes using the same arguments as a previous axes currently reuses the earlier instance.  In a future version, a new instance will always be created and returned.  Meanwhile, this warning can be suppressed, and the future behavior ensured, by passing a unique label to each axes instance.\n",
      "  warnings.warn(message, mplDeprecation, stacklevel=1)\n"
     ]
    },
    {
     "data": {
      "image/png": "[encoded data removed]",
      "text/plain": [
       "<matplotlib.figure.Figure at 0x1512d0abe0>"
      ]
     },
     "metadata": {},
     "output_type": "display_data"
    }
   ],
   "source": [
    "\n",
    "fig = plt.figure()\n",
    "ax1 = fig.add_subplot(111)\n",
    "\n",
    "\n",
    "majorLocator = MultipleLocator(1)\n",
    "majorFormatter = FormatStrFormatter('%.1f')\n",
    "minorLocator = MultipleLocator(0.5)\n",
    "YmajorLocator = MultipleLocator(500)\n",
    "YmajorFormatter = FormatStrFormatter('%d')\n",
    "YminorLocator = MultipleLocator(250)\n",
    "\n",
    "\n",
    "ax = plt.subplot(111)\n",
    "\n",
    "\n",
    "# Hide the right and top spines\n",
    "ax1.spines['right'].set_visible(True)\n",
    "ax1.spines['top'].set_visible(True)\n",
    "\n",
    "ax1.yaxis.set_ticks_position('both')\n",
    "ax1.xaxis.set_ticks_position('both')\n",
    "ax1.axes.tick_params(axis='both',which='both',direction='in')\n",
    "\n",
    "\n",
    "pylab.xlim(-4.00,4.00)\n",
    "pylab.ylim(-2000,2000)\n",
    "data = pd.read_csv(path)\n",
    "\n",
    "pylab.xlabel(\"Distance from bilayer center [nm]\")\n",
    "pylab.ylabel(r\"$\\sigma$ [bar]\")\n",
    "\n",
    "\n",
    "ax1.xaxis.set_major_locator(majorLocator)\n",
    "ax1.xaxis.set_major_formatter(majorFormatter)\n",
    "\n",
    "ax1.yaxis.set_major_locator(YmajorLocator)\n",
    "ax1.yaxis.set_major_formatter(YmajorFormatter)\n",
    "\n",
    "# for the minor ticks, use no labels; default NullFormatter\n",
    "ax1.xaxis.set_minor_locator(minorLocator)\n",
    "ax1.yaxis.set_minor_locator(YminorLocator)\n"
   ]
  },
  {
   "cell_type": "markdown",
   "metadata": {},
   "source": [
    "##############\n",
    "Plotting the graph\n",
    "##############"
   ]
  },
  {
   "cell_type": "code",
   "execution_count": 97,
   "metadata": {},
   "outputs": [
    {
     "data": {
      "image/png": "[encoded data removed]",
      "text/plain": [
       "<matplotlib.figure.Figure at 0x1512c8add8>"
      ]
     },
     "metadata": {},
     "output_type": "display_data"
    }
   ],
   "source": [
    "data = pd.read_csv(path)\n",
    "\n",
    "\n",
    "pylab.plot(data[\"z\"] - shift, data[\"PL\"]+data[\"PT\"], \"#f2ae26\", label=\"Lateral pressure\")\n",
    "\n",
    "plt.axvline(0,color=\"grey\",linewidth=0.7)\n",
    "plt.axhline(0,color=\"grey\",linewidth=0.7)\n",
    "pylab.legend([\"Lateral pressure profile\"],loc=1 )\n",
    "\n",
    "pylab.savefig(title + \"_pressure_profile.pdf\",bbox_inches=\"tight\")"
   ]
  },
  {
   "cell_type": "code",
   "execution_count": null,
   "metadata": {},
   "outputs": [],
   "source": []
  }
 ],
 "metadata": {
  "kernelspec": {
   "display_name": "Python 3",
   "language": "python",
   "name": "python3"
  },
  "language_info": {
   "codemirror_mode": {
    "name": "ipython",
    "version": 3
   },
   "file_extension": ".py",
   "mimetype": "text/x-python",
   "name": "python",
   "nbconvert_exporter": "python",
   "pygments_lexer": "ipython3",
   "version": "3.6.4"
  }
 },
 "nbformat": 4,
 "nbformat_minor": 2
}
